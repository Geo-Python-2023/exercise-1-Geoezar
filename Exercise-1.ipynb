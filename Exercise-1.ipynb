{
 "cells": [
  {
   "cell_type": "code",
   "execution_count": 5,
   "id": "d15633f2-2358-4b44-89cd-e0a64b9c35b0",
   "metadata": {
    "tags": []
   },
   "outputs": [
    {
     "name": "stdin",
     "output_type": "stream",
     "text": [
      " 8\n"
     ]
    },
    {
     "name": "stdout",
     "output_type": "stream",
     "text": [
      "8\n"
     ]
    }
   ],
   "source": [
    "ice_cream_rating = \"How much do you love eating ice cream? Rate 0 to 10.\"\n",
    "my_ice_cream = int(input())\n",
    "print(my_ice_cream)"
   ]
  },
  {
   "cell_type": "code",
   "execution_count": 6,
   "id": "fceec4e6-85cc-41f0-a4f3-7d951e3026d8",
   "metadata": {
    "tags": []
   },
   "outputs": [
    {
     "name": "stdin",
     "output_type": "stream",
     "text": [
      " 4\n"
     ]
    },
    {
     "name": "stdout",
     "output_type": "stream",
     "text": [
      "4\n"
     ]
    }
   ],
   "source": [
    "sleeping_rating = \"How much do you love sleeping? Rate 0 to 10.\"\n",
    "my_sleeping = int(input())\n",
    "print(my_sleeping)"
   ]
  },
  {
   "cell_type": "code",
   "execution_count": null,
   "id": "0315252c-1c27-4e8e-9771-1be309dd9cd7",
   "metadata": {},
   "outputs": [],
   "source": [
    "###"
   ]
  },
  {
   "cell_type": "code",
   "execution_count": 7,
   "id": "df141a12-0363-47e4-999a-e1b1687075cc",
   "metadata": {
    "tags": []
   },
   "outputs": [
    {
     "name": "stdin",
     "output_type": "stream",
     "text": [
      " Hazar\n",
      " Kuru\n"
     ]
    },
    {
     "name": "stdout",
     "output_type": "stream",
     "text": [
      "Hazar Kuru\n"
     ]
    }
   ],
   "source": [
    "first_name = input(str())\n",
    "last_name = input(str())\n",
    "my_name = first_name + \" \" + last_name\n",
    "print(my_name)"
   ]
  },
  {
   "cell_type": "code",
   "execution_count": 8,
   "id": "cc982f4d-1b47-499f-88a7-e039d1ad4fa0",
   "metadata": {
    "tags": []
   },
   "outputs": [
    {
     "name": "stdout",
     "output_type": "stream",
     "text": [
      "6.0\n"
     ]
    }
   ],
   "source": [
    "happiness_rating = (my_ice_cream + my_sleeping) / 2\n",
    "print(happiness_rating)"
   ]
  },
  {
   "cell_type": "code",
   "execution_count": 9,
   "id": "e9807328-0385-4d5e-aedc-9e22f4406be8",
   "metadata": {
    "tags": []
   },
   "outputs": [
    {
     "name": "stdout",
     "output_type": "stream",
     "text": [
      "<class 'int'>\n",
      "<class 'int'>\n",
      "<class 'float'>\n"
     ]
    }
   ],
   "source": [
    "print(type(my_ice_cream))\n",
    "print(type(my_sleeping))\n",
    "print(type(happiness_rating))\n"
   ]
  },
  {
   "cell_type": "code",
   "execution_count": 10,
   "id": "f3c5f15f-041b-43bd-91fa-dccbac7c22fc",
   "metadata": {
    "tags": []
   },
   "outputs": [
    {
     "name": "stdout",
     "output_type": "stream",
     "text": [
      "My name is Hazar and I give eating ice cream a score of 8 out of 10!\n",
      "I am Hazar Kuru and my sleeping enjoyment rating is 4 / 10!\n",
      "Based on the factors above, my happiness rating is 6.0 out of 10, or 60.0 %!\n"
     ]
    }
   ],
   "source": [
    "print(\"My name is \" + first_name + \" and I give eating ice cream a score of \" + str(my_ice_cream) + \" out of 10!\")\n",
    "print(\"I am \" + my_name + \" and my sleeping enjoyment rating is \" + str(my_sleeping) + \" / 10!\")\n",
    "print(\"Based on the factors above, my happiness rating is \" + str(happiness_rating) + \" out of 10, or \" + str(happiness_rating*10) + \" %!\")"
   ]
  },
  {
   "cell_type": "code",
   "execution_count": null,
   "id": "6d4a3a46-3e9d-4db7-849d-21154ead44d4",
   "metadata": {},
   "outputs": [],
   "source": []
  }
 ],
 "metadata": {
  "kernelspec": {
   "display_name": "Python 3 (ipykernel)",
   "language": "python",
   "name": "python3"
  },
  "language_info": {
   "codemirror_mode": {
    "name": "ipython",
    "version": 3
   },
   "file_extension": ".py",
   "mimetype": "text/x-python",
   "name": "python",
   "nbconvert_exporter": "python",
   "pygments_lexer": "ipython3",
   "version": "3.10.12"
  }
 },
 "nbformat": 4,
 "nbformat_minor": 5
}
